{
 "cells": [
  {
   "cell_type": "code",
   "execution_count": 257,
   "metadata": {},
   "outputs": [],
   "source": [
    "import pandas as pd\n",
    "import requests\n",
    "from requests.exceptions import HTTPError\n",
    "from json.decoder import JSONDecodeError\n",
    "from pprint import pprint\n",
    "import base64\n",
    "from github import Github\n",
    "\n",
    "'''\n",
    "\n",
    "It is suggested by Github to use the authenticated requests, to avoid a RateLimitExceededException\n",
    "if you use the public request (without authentication) and exceed several number of requests.\n",
    "\n",
    "'''\n",
    "\n",
    "token = 'GitHub_authentication_token'"
   ]
  },
  {
   "cell_type": "markdown",
   "metadata": {},
   "source": [
    "## JSON"
   ]
  },
  {
   "cell_type": "code",
   "execution_count": 258,
   "metadata": {},
   "outputs": [],
   "source": [
    "# username\n",
    "username = \"elixir-europe\"\n",
    "\n",
    "#hackatons\n",
    "biohackatons = (\"BioHackathon-projects-2019\" ,\"BioHackathon-projects-2020\")\n",
    "\n",
    "# setup owner name , access_token, and headers \n",
    "headers = {'Authorization':\"Token \"+ token}\n",
    "\n",
    "# url for the request\n",
    "projects_dict = {}\n",
    "\n",
    "for biohackaton in biohackatons:\n",
    "    url = f\"https://api.github.com/repos/{username}/{biohackaton}\"\n",
    "    repo = requests.get(url,headers=headers).json() # returns a json from the request\n",
    "    projects_dict[biohackaton] = repo \n",
    "\n",
    "# pretty print for the JSON\n",
    "# pprint(projects_dict[\"BioHackathon-projects-2019\"])"
   ]
  },
  {
   "cell_type": "markdown",
   "metadata": {},
   "source": [
    "## PyGitHub"
   ]
  },
  {
   "cell_type": "code",
   "execution_count": 259,
   "metadata": {},
   "outputs": [],
   "source": [
    "# Github username\n",
    "username = \"elixir-europe\"\n",
    "\n",
    "# pygithub object uses an access token\n",
    "g = Github(token)\n",
    "\n",
    "# gets the user\n",
    "user = g.get_user(username)\n",
    "\n",
    "# gets the repo\n",
    "repo = user.get_repo(\"BioHackathon-projects-2019\")\n",
    "\n",
    "# readme file for all projects from BioHackaton 2019\n",
    "projects = 34"
   ]
  },
  {
   "cell_type": "code",
   "execution_count": 260,
   "metadata": {},
   "outputs": [],
   "source": [
    "'''\n",
    "readme_dict - dictionary containing: \n",
    "\n",
    "keys - project numbers\n",
    "values - README.md for each Biohackaton project\n",
    "\n",
    "'''\n",
    "#dir(repo) - gives the methods and attributes that can be used\n",
    "\n",
    "readme_dict = {}\n",
    "\n",
    "for project in range(1, projects + 1):\n",
    "    readme = repo.get_contents(f\"/projects/{project}/README.md\")\n",
    "    readme_dict[project] = readme.decoded_content.decode()"
   ]
  },
  {
   "cell_type": "code",
   "execution_count": 261,
   "metadata": {},
   "outputs": [
    {
     "name": "stdout",
     "output_type": "stream",
     "text": [
      "# Disease and pathway maps for Rare Diseases\n",
      "\n",
      "**Project Number:** 5\n",
      "\n",
      "## Research area alignment\n",
      "\n",
      "- This biohackathon aligns with the following ELIXIR platforms: data, tools and interoperability. ELIXIR communities which may find it relevant are Human Data and Rare Diseases.\n",
      "\n",
      "## Resources and guidelines\n",
      "\n",
      "A breakdown of work, suggested resources and approach [can be found here](http://bit.ly/bh-rdmaps).\n",
      "\n",
      "## Team\n",
      "\n",
      "**Submitter:** Marek Ostaszewski\n",
      "\n",
      "### Proponent(s)\n",
      "\n",
      "- Marek Ostaszewski\n",
      "\n",
      "### Lead(s)\n",
      "\n",
      " - Marek Ostaszewski\n",
      " Research Fellow\n",
      " Université du Luxembourg\n",
      " Luxembourg Centre for Systems Biomedicine (LCSB)\n",
      " 6, avenue du Swing\n",
      " L-4367 Belvaux, Luxembourg\n",
      " email: marek.ostaszewski@uni.lu\n",
      "\n",
      "- Laura I. Furlong\n",
      " Research Programme on Biomedical Informatics (GRIB)\n",
      " Hospital del Mar Medical Research Institute (IMIM)\n",
      " DCEXS, Pompeu Fabra University (UPF)\n",
      " Carrer del Dr. Aiguader, 88, 08003 Barcelona, Spain\n",
      " email: laura.furlong@upf.edu\n",
      " \n",
      " - Joaquin Dopazo\n",
      " Clinical Bioinformatics Area, Director\n",
      " Fundacion Progreso y Salud\n",
      " CDCA, Hospital Virgen del Rocío\n",
      " c/Manuel Siurot s/n, \n",
      " 41013, Sevilla, Spain\n",
      " email: joaquin.dopazo@juntadeandalucia.es\n",
      "\n",
      "### Nominated participant(s)\n",
      "\n",
      "1. Maria Pena Chilet, expertise in pathway modeling in translational medicine\n",
      "2. Piotr Gawron, expertise in knowledge visualization and translational medicine data formats\n",
      "\n",
      "## Expected outcomes\n",
      "\n",
      "A working prototype of a search and visualization interface that, given the search criteria and, if available, omics data, will scan the considered resources, combine the results into a molecular diagram, which then will become available for visualization in MINERVA and Hipathia platforms, linking the results to the sources in DisGeNET and other repositories. \n",
      " \n",
      " A suggested workflow will look as follows:\n",
      " 1. For a rare disease from Orphanet, retrieve the genes/variants from DisGeNET\n",
      " 2. Interrogate disease maps via MINERVA to retrieve pathways in which these genes/variants are involved\n",
      " 3. Identify omics data for the RD from omics data repository (e.g. transcriptomics)\n",
      " 4. Feed output of 3 and 2 into Hipathia for modelling disease processes\n",
      " 5. Use MINERVA for visualization of identified disease maps, and/or for integration of retrieved data\n",
      " \n",
      "If successful, we plan to continue this collaboration and aim for at least one bioinformatics paper. We will actively explore the possibility of establishing this search and visualization engine as part of ELIXIR services.\n",
      "\n",
      "## Expected audience\n",
      "\n",
      "- Bioinformaticians with expertise in handling clinical data to define and consult use-cases for the RD mechanisms search\n",
      "- Bioinformaticians skilled in information retrieval, knowledge exchange and systems biology formats (SBML, SBGN, BioPAX) to design and implement the intra-tool pipelines\n",
      "- Bioinformaticians skilled in omics data retrieval and integration, to design and implement the data-level pipelines, including RD-connect\n",
      "- Web developers proficient with JavaScript to implement the search and visualization interface based on existing MINERVA plugin architecture\n",
      "\n",
      "## Confirmed participants\n",
      "\n",
      "Importantly, the organizers ensure participation of 1 web developer, and the following bioinformaticians: one for clinical data handling, one for knowledge retrieval and exchange and two for omics data handling.\n",
      "\n",
      "**Number of expected hacking days**: 4\n",
      "\n",
      "\n"
     ]
    }
   ],
   "source": [
    "print(readme_dict[5])"
   ]
  },
  {
   "cell_type": "markdown",
   "metadata": {},
   "source": [
    "## GitHub Raw"
   ]
  },
  {
   "cell_type": "code",
   "execution_count": 262,
   "metadata": {},
   "outputs": [],
   "source": [
    "url = \"https://raw.githubusercontent.com/user/elixir-europe\"\n",
    "resp = requests.get(url)"
   ]
  },
  {
   "cell_type": "code",
   "execution_count": 263,
   "metadata": {},
   "outputs": [],
   "source": [
    "#g.search_commits() #Returns a paginated list of Commit objects in which it represents a commit in Github"
   ]
  },
  {
   "cell_type": "code",
   "execution_count": 264,
   "metadata": {},
   "outputs": [],
   "source": [
    "def repository_description(repo):\n",
    "\n",
    "    '''\n",
    "    input: a github.Repository object\n",
    "    output: a dictionary with repository description\n",
    "\n",
    "    '''\n",
    "    \n",
    "    repo_description = {\"Full name:\" : repo.full_name, \"Description:\" : repo.description,\n",
    "                        \"Date created:\" : repo.created_at, \"Date of last push:\" : repo.pushed_at,\n",
    "                       \"Home Page:\" : repo.homepage, \"Number of forks:\" : repo.forks, \n",
    "                        \"Number of stars:\" : repo.stargazers_count}\n",
    "    try:\n",
    "        repo_description[\"License:\"] = base64.b64decode(repo.get_license().content.encode()).decode()\n",
    "    except:\n",
    "        pass\n",
    "    \n",
    "    return repo_description"
   ]
  },
  {
   "cell_type": "code",
   "execution_count": 265,
   "metadata": {},
   "outputs": [
    {
     "data": {
      "text/plain": [
       "{'Full name:': 'elixir-europe/BioHackathon-projects-2019',\n",
       " 'Description:': 'This repository is meant for the participants of the BioHackathon hosted in Paris in Nov 2019 to share ideas, create issues, manage projects, publish materials, create code, etc.',\n",
       " 'Date created:': datetime.datetime(2019, 7, 5, 19, 21, 25),\n",
       " 'Date of last push:': datetime.datetime(2020, 10, 16, 19, 36, 40),\n",
       " 'Home Page:': None,\n",
       " 'Number of forks:': 29,\n",
       " 'Number of stars:': 18,\n",
       " 'License:': 'MIT License\\n\\nCopyright (c) 2019 ELIXIR Europe\\n\\nPermission is hereby granted, free of charge, to any person obtaining a copy\\nof this software and associated documentation files (the \"Software\"), to deal\\nin the Software without restriction, including without limitation the rights\\nto use, copy, modify, merge, publish, distribute, sublicense, and/or sell\\ncopies of the Software, and to permit persons to whom the Software is\\nfurnished to do so, subject to the following conditions:\\n\\nThe above copyright notice and this permission notice shall be included in all\\ncopies or substantial portions of the Software.\\n\\nTHE SOFTWARE IS PROVIDED \"AS IS\", WITHOUT WARRANTY OF ANY KIND, EXPRESS OR\\nIMPLIED, INCLUDING BUT NOT LIMITED TO THE WARRANTIES OF MERCHANTABILITY,\\nFITNESS FOR A PARTICULAR PURPOSE AND NONINFRINGEMENT. IN NO EVENT SHALL THE\\nAUTHORS OR COPYRIGHT HOLDERS BE LIABLE FOR ANY CLAIM, DAMAGES OR OTHER\\nLIABILITY, WHETHER IN AN ACTION OF CONTRACT, TORT OR OTHERWISE, ARISING FROM,\\nOUT OF OR IN CONNECTION WITH THE SOFTWARE OR THE USE OR OTHER DEALINGS IN THE\\nSOFTWARE.\\n'}"
      ]
     },
     "execution_count": 265,
     "metadata": {},
     "output_type": "execute_result"
    }
   ],
   "source": [
    "repository_description(repo)"
   ]
  },
  {
   "cell_type": "code",
   "execution_count": null,
   "metadata": {},
   "outputs": [],
   "source": [
    "\n"
   ]
  },
  {
   "cell_type": "code",
   "execution_count": null,
   "metadata": {},
   "outputs": [],
   "source": []
  }
 ],
 "metadata": {
  "kernelspec": {
   "display_name": "Python 3",
   "language": "python",
   "name": "python3"
  },
  "language_info": {
   "codemirror_mode": {
    "name": "ipython",
    "version": 3
   },
   "file_extension": ".py",
   "mimetype": "text/x-python",
   "name": "python",
   "nbconvert_exporter": "python",
   "pygments_lexer": "ipython3",
   "version": "3.7.8"
  }
 },
 "nbformat": 4,
 "nbformat_minor": 4
}
