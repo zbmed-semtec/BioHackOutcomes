{
 "cells": [
  {
   "cell_type": "code",
   "execution_count": 257,
   "metadata": {},
   "outputs": [],
   "source": [
    "import pandas as pd\n",
    "import requests\n",
    "from requests.exceptions import HTTPError\n",
    "from json.decoder import JSONDecodeError\n",
    "from pprint import pprint\n",
    "import base64\n",
    "from github import Github\n",
    "\n",
    "'''\n",
    "\n",
    "It is suggested by Github to use the authenticated requests, to avoid a RateLimitExceededException\n",
    "if you use the public request (without authentication) and exceed several number of requests.\n",
    "\n",
    "'''\n",
    "\n",
    "token = 'GitHub_authentication_token'"
   ]
  },
  {
   "cell_type": "markdown",
   "metadata": {},
   "source": [
    "## JSON"
   ]
  },
  {
   "cell_type": "code",
   "execution_count": 258,
   "metadata": {},
   "outputs": [],
   "source": [
    "# username\n",
    "username = \"elixir-europe\"\n",
    "\n",
    "#hackatons\n",
    "biohackatons = (\"BioHackathon-projects-2019\" ,\"BioHackathon-projects-2020\")\n",
    "\n",
    "# setup owner name , access_token, and headers \n",
    "headers = {'Authorization':\"Token \"+ token}\n",
    "\n",
    "# url for the request\n",
    "projects_dict = {}\n",
    "\n",
    "for biohackaton in biohackatons:\n",
    "    url = f\"https://api.github.com/repos/{username}/{biohackaton}\"\n",
    "    repo = requests.get(url,headers=headers).json() # returns a json from the request\n",
    "    projects_dict[biohackaton] = repo \n",
    "\n",
    "# pretty print for the JSON\n",
    "# pprint(projects_dict[\"BioHackathon-projects-2019\"])"
   ]
  },
  {
   "cell_type": "markdown",
   "metadata": {},
   "source": [
    "## PyGitHub"
   ]
  },
  {
   "cell_type": "code",
   "execution_count": 259,
   "metadata": {},
   "outputs": [],
   "source": [
    "# Github username\n",
    "username = \"elixir-europe\"\n",
    "\n",
    "# pygithub object uses an access token\n",
    "g = Github(token)\n",
    "\n",
    "# gets the user\n",
    "user = g.get_user(username)\n",
    "\n",
    "# gets the repo\n",
    "repo = user.get_repo(\"BioHackathon-projects-2019\")\n",
    "\n",
    "# readme file for all projects from BioHackaton 2019\n",
    "projects = 34"
   ]
  },
  {
   "cell_type": "markdown",
   "metadata": {},
   "source": [
    "## Fetch README.md "
   ]
  },
  {
   "cell_type": "code",
   "execution_count": 260,
   "metadata": {},
   "outputs": [],
   "source": [
    "'''\n",
    "readme_dict - dictionary containing: \n",
    "\n",
    "keys - project numbers\n",
    "values - README.md for each Biohackaton project\n",
    "\n",
    "'''\n",
    "#dir(repo) - gives the methods and attributes that can be used\n",
    "\n",
    "readme_dict = {}\n",
    "\n",
    "for project in range(1, projects + 1):\n",
    "    readme = repo.get_contents(f\"/projects/{project}/README.md\")\n",
    "    readme_dict[project] = readme.decoded_content.decode()"
   ]
  },
  {
   "cell_type": "markdown",
   "metadata": {},
   "source": [
    "## Fetch Repo Details"
   ]
  },
  {
   "cell_type": "code",
   "execution_count": null,
   "metadata": {},
   "outputs": [],
   "source": [
    "list(repo.get_labels())"
   ]
  },
  {
   "cell_type": "markdown",
   "metadata": {},
   "source": [
    "#### Repo branches"
   ]
  },
  {
   "cell_type": "code",
   "execution_count": 375,
   "metadata": {},
   "outputs": [
    {
     "name": "stdout",
     "output_type": "stream",
     "text": [
      "Branch 0 Branch(name=\"11-text-mining-sw\")\n",
      "Branch 1 Branch(name=\"29-semantic-recommendation-system-for-life-sciences-publications\")\n",
      "Branch 2 Branch(name=\"dependabot/npm_and_yarn/projects/29/src/client/bin-links-1.1.8\")\n",
      "Branch 3 Branch(name=\"dependabot/npm_and_yarn/projects/29/src/client/handlebars-4.7.6\")\n",
      "Branch 4 Branch(name=\"dependabot/npm_and_yarn/projects/29/src/client/lodash-4.17.19\")\n",
      "Branch 5 Branch(name=\"dependabot/npm_and_yarn/projects/29/src/client/npm-6.14.6\")\n",
      "Branch 6 Branch(name=\"dependabot/npm_and_yarn/projects/29/src/client/npm-registry-fetch-4.0.5\")\n",
      "Branch 7 Branch(name=\"dependabot/npm_and_yarn/projects/29/src/client/npm-user-validate-1.0.1\")\n",
      "Branch 8 Branch(name=\"dependabot/npm_and_yarn/projects/29/src/client/websocket-extensions-0.1.4\")\n",
      "Branch 9 Branch(name=\"dependabot/npm_and_yarn/projects/29/src/web_server/elliptic-6.5.3\")\n",
      "Branch 10 Branch(name=\"dependabot/npm_and_yarn/projects/29/src/web_server/lodash-4.17.19\")\n",
      "Branch 11 Branch(name=\"dependabot/npm_and_yarn/projects/29/src/web_server/mixin-deep-1.3.2\")\n",
      "Branch 12 Branch(name=\"dependabot/npm_and_yarn/projects/29/src/web_server/safer-eval-1.3.6\")\n",
      "Branch 13 Branch(name=\"dependabot/npm_and_yarn/projects/29/src/web_server/static-eval-2.1.0\")\n",
      "Branch 14 Branch(name=\"egonw-patch-1\")\n",
      "Branch 15 Branch(name=\"egonw-patch-2\")\n",
      "Branch 16 Branch(name=\"master\")\n",
      "Branch 17 Branch(name=\"proj19\")\n",
      "Branch 18 Branch(name=\"project-10-dev\")\n",
      "Branch 19 Branch(name=\"project_14\")\n",
      "Branch 20 Branch(name=\"project_22\")\n",
      "GitAuthor(name=\"Ricardo\")\n",
      "overall commits 631\n"
     ]
    }
   ],
   "source": [
    "repo_branches = list(repo.get_branches())\n",
    "\n",
    "for i, e in enumerate(repo_branches):\n",
    "    print(\"Branch\", i, e)\n",
    "\n",
    "print(commit.commit.author)\n",
    "print(\"overall commits\", repo.get_commits().totalCount)"
   ]
  },
  {
   "cell_type": "markdown",
   "metadata": {},
   "source": [
    "## Commits"
   ]
  },
  {
   "cell_type": "code",
   "execution_count": 414,
   "metadata": {},
   "outputs": [],
   "source": [
    "from datetime import datetime\n",
    "from dateutil.relativedelta import relativedelta\n",
    "import pandas as pd\n",
    "import pprint\n",
    "\n",
    "def commits_processing(repo):\n",
    "    \n",
    "    '''\n",
    "    input: repo PyGitHub object\n",
    "    Output: 1. list with overall commit days \n",
    "            2. set with all authors that contributed\n",
    "    \n",
    "    '''\n",
    "\n",
    "    master = repo.get_branch(\"master\")\n",
    "\n",
    "    commits = list(repo.get_commits(sha=\"master\"))\n",
    "\n",
    "    commit_days = []\n",
    "    authors = set()\n",
    "    \n",
    "    \n",
    "    for commit in commits:\n",
    "        authors.add(str(commit.commit.author))\n",
    "        timeObj = commit.commit.author.date\n",
    "        timeStamp = timeObj.strftime(\"%d-%m-%Y\")\n",
    "        commit_days.append(timeStamp)\n",
    "\n",
    "    return sorted(commit_days, key = lambda date: datetime.strptime(date, \"%d-%m-%Y\")) , authors\n",
    "\n",
    "overall_commit_days = commits_processing(repo)"
   ]
  },
  {
   "cell_type": "code",
   "execution_count": 390,
   "metadata": {},
   "outputs": [],
   "source": [
    "def datetime_interval_processer(start_date: str, end_date: str, datetime_list: list):\n",
    "    \n",
    "    '''\n",
    "    Input: hackaton start date\n",
    "           hackaton end date\n",
    "           dates of commits\n",
    "           \n",
    "    output: 1 a list for all commits before the hackaton days\n",
    "            2 a list for all commits during the hackaton days\n",
    "            3 a list for all commits after the hackaton days\n",
    "    '''\n",
    "    \n",
    "    start = datetime.strptime(start_date, \"%d-%m-%Y\")\n",
    "    end = datetime.strptime(end_date, \"%d-%m-%Y\")\n",
    "\n",
    "    datetime_object = [datetime.strptime(date, '%d-%m-%Y') for date in datetime_list] \n",
    "    #dates are needed to be datetime objects to be able to compare them\n",
    "\n",
    "    before_dates = []\n",
    "    in_between_dates = []\n",
    "    after_dates = []\n",
    "    \n",
    "    for d in datetime_object:\n",
    "            \n",
    "        if d < start:\n",
    "            before_dates.append((str(d)[:10]))\n",
    "            \n",
    "        if d >= start and d <= end:\n",
    "            in_between_dates.append(str(d)[:10])\n",
    "            \n",
    "        if d > end:\n",
    "        \n",
    "            after_dates.append((str(d)[:10]))\n",
    "             \n",
    "    return before_dates, in_between_dates, after_dates\n",
    "\n",
    "biohackaton_2019 = datetime_interval_processer(\"18-11-2019\", \"22-11-2019\", overall_commit_days[0])"
   ]
  },
  {
   "cell_type": "code",
   "execution_count": 391,
   "metadata": {},
   "outputs": [],
   "source": [
    "def datetime_to_dict(datetime_list: list):\n",
    "    \n",
    "    '''\n",
    "    Dictionary holding all commits for a certain period of time\n",
    "\n",
    "    Input: list with dates, datetime format\n",
    "    Output: a dictionary with:\n",
    "    -keys = dates\n",
    "    -values = number of commits\n",
    "    \n",
    "    \n",
    "    '''\n",
    "    hackaton_dict = {}\n",
    "    \n",
    "    for date in datetime_list:\n",
    "        if date in hackaton_dict:\n",
    "            hackaton_dict[date] += 1\n",
    "        else: \n",
    "            hackaton_dict[date] = 1\n",
    "            \n",
    "    return hackaton_dict\n"
   ]
  },
  {
   "cell_type": "code",
   "execution_count": 487,
   "metadata": {},
   "outputs": [],
   "source": [
    "\n",
    "def dict_to_df(input_dict):\n",
    "\n",
    "    exportable_sheet = pd.DataFrame.from_dict(input_dict, orient='index', columns = [\"Number of Commits\"])\n",
    "    exportable_sheet = exportable_sheet.rename_axis('Hacking days').reset_index()\n",
    "    exportable_sheet.loc['Total', \"Number of Commits\"] = exportable_sheet[\"Number of Commits\"].sum()\n",
    "\n",
    "    return exportable_sheet\n",
    "\n"
   ]
  },
  {
   "cell_type": "code",
   "execution_count": 488,
   "metadata": {},
   "outputs": [
    {
     "data": {
      "text/html": [
       "<div>\n",
       "<style scoped>\n",
       "    .dataframe tbody tr th:only-of-type {\n",
       "        vertical-align: middle;\n",
       "    }\n",
       "\n",
       "    .dataframe tbody tr th {\n",
       "        vertical-align: top;\n",
       "    }\n",
       "\n",
       "    .dataframe thead th {\n",
       "        text-align: right;\n",
       "    }\n",
       "</style>\n",
       "<table border=\"1\" class=\"dataframe\">\n",
       "  <thead>\n",
       "    <tr style=\"text-align: right;\">\n",
       "      <th></th>\n",
       "      <th>Hacking days</th>\n",
       "      <th>Number of Commits</th>\n",
       "    </tr>\n",
       "  </thead>\n",
       "  <tbody>\n",
       "    <tr>\n",
       "      <th>13</th>\n",
       "      <td>2019-11-14</td>\n",
       "      <td>12.0</td>\n",
       "    </tr>\n",
       "    <tr>\n",
       "      <th>14</th>\n",
       "      <td>2019-11-15</td>\n",
       "      <td>20.0</td>\n",
       "    </tr>\n",
       "    <tr>\n",
       "      <th>15</th>\n",
       "      <td>2019-11-16</td>\n",
       "      <td>8.0</td>\n",
       "    </tr>\n",
       "    <tr>\n",
       "      <th>16</th>\n",
       "      <td>2019-11-17</td>\n",
       "      <td>15.0</td>\n",
       "    </tr>\n",
       "    <tr>\n",
       "      <th>Total</th>\n",
       "      <td>NaN</td>\n",
       "      <td>114.0</td>\n",
       "    </tr>\n",
       "  </tbody>\n",
       "</table>\n",
       "</div>"
      ],
      "text/plain": [
       "      Hacking days  Number of Commits\n",
       "13      2019-11-14               12.0\n",
       "14      2019-11-15               20.0\n",
       "15      2019-11-16                8.0\n",
       "16      2019-11-17               15.0\n",
       "Total          NaN              114.0"
      ]
     },
     "execution_count": 488,
     "metadata": {},
     "output_type": "execute_result"
    }
   ],
   "source": [
    "#Dictionary holding all commits before Hackaton Days\n",
    "\n",
    "exportable_sheet_before = dict_to_df(datetime_to_dict(biohackaton_2019[0]))\n",
    "exportable_sheet_before.tail()"
   ]
  },
  {
   "cell_type": "code",
   "execution_count": 489,
   "metadata": {},
   "outputs": [
    {
     "data": {
      "text/html": [
       "<div>\n",
       "<style scoped>\n",
       "    .dataframe tbody tr th:only-of-type {\n",
       "        vertical-align: middle;\n",
       "    }\n",
       "\n",
       "    .dataframe tbody tr th {\n",
       "        vertical-align: top;\n",
       "    }\n",
       "\n",
       "    .dataframe thead th {\n",
       "        text-align: right;\n",
       "    }\n",
       "</style>\n",
       "<table border=\"1\" class=\"dataframe\">\n",
       "  <thead>\n",
       "    <tr style=\"text-align: right;\">\n",
       "      <th></th>\n",
       "      <th>Hacking days</th>\n",
       "      <th>Number of Commits</th>\n",
       "    </tr>\n",
       "  </thead>\n",
       "  <tbody>\n",
       "    <tr>\n",
       "      <th>0</th>\n",
       "      <td>2019-11-18</td>\n",
       "      <td>14.0</td>\n",
       "    </tr>\n",
       "    <tr>\n",
       "      <th>1</th>\n",
       "      <td>2019-11-19</td>\n",
       "      <td>110.0</td>\n",
       "    </tr>\n",
       "    <tr>\n",
       "      <th>2</th>\n",
       "      <td>2019-11-20</td>\n",
       "      <td>114.0</td>\n",
       "    </tr>\n",
       "    <tr>\n",
       "      <th>3</th>\n",
       "      <td>2019-11-21</td>\n",
       "      <td>148.0</td>\n",
       "    </tr>\n",
       "    <tr>\n",
       "      <th>4</th>\n",
       "      <td>2019-11-22</td>\n",
       "      <td>49.0</td>\n",
       "    </tr>\n",
       "    <tr>\n",
       "      <th>Total</th>\n",
       "      <td>NaN</td>\n",
       "      <td>435.0</td>\n",
       "    </tr>\n",
       "  </tbody>\n",
       "</table>\n",
       "</div>"
      ],
      "text/plain": [
       "      Hacking days  Number of Commits\n",
       "0       2019-11-18               14.0\n",
       "1       2019-11-19              110.0\n",
       "2       2019-11-20              114.0\n",
       "3       2019-11-21              148.0\n",
       "4       2019-11-22               49.0\n",
       "Total          NaN              435.0"
      ]
     },
     "execution_count": 489,
     "metadata": {},
     "output_type": "execute_result"
    }
   ],
   "source": [
    "\n",
    "#Dictionary holding all commits during Hackaton Days\n",
    "\n",
    "exportable_sheet_during = dict_to_df(datetime_to_dict(biohackaton_2019[1]))\n",
    "exportable_sheet_during"
   ]
  },
  {
   "cell_type": "code",
   "execution_count": 491,
   "metadata": {},
   "outputs": [
    {
     "data": {
      "text/html": [
       "<div>\n",
       "<style scoped>\n",
       "    .dataframe tbody tr th:only-of-type {\n",
       "        vertical-align: middle;\n",
       "    }\n",
       "\n",
       "    .dataframe tbody tr th {\n",
       "        vertical-align: top;\n",
       "    }\n",
       "\n",
       "    .dataframe thead th {\n",
       "        text-align: right;\n",
       "    }\n",
       "</style>\n",
       "<table border=\"1\" class=\"dataframe\">\n",
       "  <thead>\n",
       "    <tr style=\"text-align: right;\">\n",
       "      <th></th>\n",
       "      <th>Hacking days</th>\n",
       "      <th>Number of Commits</th>\n",
       "    </tr>\n",
       "  </thead>\n",
       "  <tbody>\n",
       "    <tr>\n",
       "      <th>9</th>\n",
       "      <td>2020-01-22</td>\n",
       "      <td>4.0</td>\n",
       "    </tr>\n",
       "    <tr>\n",
       "      <th>10</th>\n",
       "      <td>2020-01-23</td>\n",
       "      <td>6.0</td>\n",
       "    </tr>\n",
       "    <tr>\n",
       "      <th>11</th>\n",
       "      <td>2020-02-13</td>\n",
       "      <td>8.0</td>\n",
       "    </tr>\n",
       "    <tr>\n",
       "      <th>12</th>\n",
       "      <td>2020-09-12</td>\n",
       "      <td>4.0</td>\n",
       "    </tr>\n",
       "    <tr>\n",
       "      <th>Total</th>\n",
       "      <td>NaN</td>\n",
       "      <td>82.0</td>\n",
       "    </tr>\n",
       "  </tbody>\n",
       "</table>\n",
       "</div>"
      ],
      "text/plain": [
       "      Hacking days  Number of Commits\n",
       "9       2020-01-22                4.0\n",
       "10      2020-01-23                6.0\n",
       "11      2020-02-13                8.0\n",
       "12      2020-09-12                4.0\n",
       "Total          NaN               82.0"
      ]
     },
     "execution_count": 491,
     "metadata": {},
     "output_type": "execute_result"
    }
   ],
   "source": [
    "#Dictionary holding all commits after Hackaton Days\n",
    "\n",
    "exportable_sheet_after = dict_to_df(datetime_to_dict(biohackaton_2019[2]))\n",
    "exportable_sheet_after.tail()\n"
   ]
  },
  {
   "cell_type": "code",
   "execution_count": 426,
   "metadata": {},
   "outputs": [
    {
     "data": {
      "text/plain": [
       "{'\"6br\"',\n",
       " '\"Alasdair Gray\"',\n",
       " '\"Alex Kanitz\"',\n",
       " '\"Alexey Sokolov\"',\n",
       " '\"Anup Kumar\"',\n",
       " '\"Aurélien Luciani\"',\n",
       " '\"Björn Grüning\"',\n",
       " '\"Bérénice Batut\"',\n",
       " '\"Carlos Vega\"',\n",
       " '\"David Hoksza\"',\n",
       " '\"David Lagorce\"',\n",
       " '\"De\"',\n",
       " '\"DrYak\"',\n",
       " '\"Egon Willighagen\"',\n",
       " '\"Emma Schymanski\"',\n",
       " '\"Foivos Gypas\"',\n",
       " '\"Gurnoor Singh\"',\n",
       " '\"Hans Ienasescu\"',\n",
       " '\"Hervé Ménager\"',\n",
       " '\"Hirokazu Chiba\"',\n",
       " '\"Isuru Liyanage\"',\n",
       " '\"Ivan Blagoev Topolsky\"',\n",
       " '\"Ivan Mičetić\"',\n",
       " '\"Jon Ison\"',\n",
       " '\"Manuel Bernal Llinares\"',\n",
       " '\"Marc Hanauer\"',\n",
       " '\"Margarita Kopniczky\"',\n",
       " '\"Mateusz Kuzak\"',\n",
       " '\"Michael R. Crusoe\"',\n",
       " '\"Mustafa Anıl Tuncel\"',\n",
       " '\"Nicola Soranzo\"',\n",
       " '\"Piotr Gawron\"',\n",
       " '\"Ric\"',\n",
       " '\"Ricardo\"',\n",
       " '\"Tazro Inutano Ohta\"',\n",
       " '\"The Gitter Badger\"',\n",
       " '\"Tomas\"',\n",
       " '\"Toshiyuki Yokoyama\"',\n",
       " '\"Valentin Grouès\"',\n",
       " '\"Venkata P. Satagopam\"',\n",
       " '\"Victoria Dominguez del Angel\"',\n",
       " '\"Wolfgang Maier\"',\n",
       " '\"Yo Yehudi\"',\n",
       " '\"andreassteffen\"',\n",
       " '\"anilbey\"',\n",
       " '\"bonohu\"',\n",
       " '\"d-salgado\"',\n",
       " '\"dependabot[bot]\"',\n",
       " '\"fgypas\"',\n",
       " '\"gurnoor1990\"',\n",
       " '\"kpj\"',\n",
       " '\"ljgarcia\"',\n",
       " '\"mjostaszewski\"',\n",
       " '\"mvdbeek\"'}"
      ]
     },
     "execution_count": 426,
     "metadata": {},
     "output_type": "execute_result"
    }
   ],
   "source": [
    "all_contributing_authors = {i.split(\"=\")[1].replace(\")\", \"\") for i in overall_commit_days[1]}\n",
    "all_contributing_authors"
   ]
  },
  {
   "cell_type": "code",
   "execution_count": 425,
   "metadata": {},
   "outputs": [],
   "source": [
    "\n",
    "'''\n",
    "input: a github.Repository object\n",
    "output: a dictionary with repository description\n",
    "\n",
    "'''\n",
    "\n",
    "\n",
    "repo_description = {\"Full name:\" : repo.full_name, \"Description:\" : repo.description,\n",
    "                    \"Date created:\" : repo.created_at, \"Date of last push:\" : repo.pushed_at,\n",
    "                   \"Home Page:\" : repo.homepage, \"Number of forks:\" : repo.forks, \n",
    "                    \"Number of stars:\" : repo.stargazers_count}\n",
    "try:\n",
    "    repo_description[\"License:\"] = base64.b64decode(repo.get_license().content.encode()).decode().split('\\n')[0]\n",
    "except:\n",
    "    pass\n",
    "\n"
   ]
  },
  {
   "cell_type": "code",
   "execution_count": 423,
   "metadata": {},
   "outputs": [
    {
     "data": {
      "text/plain": [
       "{'Full name:': 'elixir-europe/BioHackathon-projects-2019',\n",
       " 'Description:': 'This repository is meant for the participants of the BioHackathon hosted in Paris in Nov 2019 to share ideas, create issues, manage projects, publish materials, create code, etc.',\n",
       " 'Date created:': datetime.datetime(2019, 7, 5, 19, 21, 25),\n",
       " 'Date of last push:': datetime.datetime(2020, 10, 16, 19, 36, 40),\n",
       " 'Home Page:': None,\n",
       " 'Number of forks:': 29,\n",
       " 'Number of stars:': 18,\n",
       " 'License:': 'MIT License'}"
      ]
     },
     "execution_count": 423,
     "metadata": {},
     "output_type": "execute_result"
    }
   ],
   "source": [
    "repo_description"
   ]
  }
 ],
 "metadata": {
  "kernelspec": {
   "display_name": "Python 3",
   "language": "python",
   "name": "python3"
  },
  "language_info": {
   "codemirror_mode": {
    "name": "ipython",
    "version": 3
   },
   "file_extension": ".py",
   "mimetype": "text/x-python",
   "name": "python",
   "nbconvert_exporter": "python",
   "pygments_lexer": "ipython3",
   "version": "3.7.8"
  }
 },
 "nbformat": 4,
 "nbformat_minor": 4
}
