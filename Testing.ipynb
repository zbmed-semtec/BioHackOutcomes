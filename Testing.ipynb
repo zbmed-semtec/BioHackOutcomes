{
 "cells": [
  {
   "cell_type": "code",
   "execution_count": 1,
   "metadata": {},
   "outputs": [],
   "source": [
    "import datetime\n",
    "from dateutil.relativedelta import relativedelta\n",
    "import pandas as pd\n",
    "import pprint"
   ]
  },
  {
   "cell_type": "code",
   "execution_count": 2,
   "metadata": {},
   "outputs": [
    {
     "name": "stdin",
     "output_type": "stream",
     "text": [
      "Introduce your personal access token to acces the GitHub API:  ········································\n"
     ]
    }
   ],
   "source": [
    "#let's get the GitHub token so we can use the API\n",
    "import getpass\n",
    "\n",
    "try:\n",
    "    from secret import GITHUB_TOKEN\n",
    "except ModuleNotFoundError:\n",
    "    GITHUB_TOKEN = getpass.getpass(\"Introduce your personal access token to acces the GitHub API: \")"
   ]
  },
  {
   "cell_type": "code",
   "execution_count": 3,
   "metadata": {},
   "outputs": [
    {
     "name": "stdout",
     "output_type": "stream",
     "text": [
      "<github.MainClass.Github object at 0x0000022D7B810848>\n"
     ]
    }
   ],
   "source": [
    "#!pip install PyGithub\n",
    "from github import Github\n",
    "\n",
    "g = Github(GITHUB_TOKEN)\n",
    "print(g)"
   ]
  },
  {
   "cell_type": "code",
   "execution_count": 4,
   "metadata": {},
   "outputs": [],
   "source": [
    "def get_repo_description(repo):\n",
    "    try:\n",
    "        license = (repo.get_license().decoded_content.decode().split('\\n')[0]).strip()\n",
    "    except:\n",
    "        license = ''\n",
    "    return [repo.full_name, repo.created_at, repo.pushed_at, repo.stargazers_count, license]"
   ]
  },
  {
   "cell_type": "code",
   "execution_count": 5,
   "metadata": {},
   "outputs": [],
   "source": [
    "def commits_processing(repo, bh_start, bh_end):\n",
    "    \n",
    "    '''\n",
    "    input: repo PyGitHub object\n",
    "        bh_start Initial date of the event\n",
    "        bh_end final date of the event\n",
    "    Output: 1. list with overall commit days \n",
    "            2. set with all authors that contributed\n",
    "    \n",
    "    '''\n",
    "\n",
    "    commits = repo.get_commits()\n",
    "\n",
    "    total_commits = [0, 0, 0, 0] #before, during, after, total\n",
    "    authors = set()\n",
    "    \n",
    "    for commit in commits:\n",
    "        authors.add(str(commit.commit.author.name))\n",
    "        time_Obj = commit.commit.author.date\n",
    "        if time_Obj < bh_start :\n",
    "            total_commits[0] = total_commits[0] + 1\n",
    "        elif bh_start <= time_Obj and time_Obj <= bh_end : \n",
    "            total_commits[1] = total_commits[1] + 1\n",
    "        else :\n",
    "            total_commits[2] = total_commits[2] + 1\n",
    "        total_commits[3] = total_commits[3] + 1\n",
    "        #timeStamp = timeObj.strftime(\"%d-%m-%Y\")\n",
    "\n",
    "    #return sorted(commit_days, key = lambda date: datetime.strptime(date, \"%d-%m-%Y\")) , authors\n",
    "    return total_commits"
   ]
  },
  {
   "cell_type": "code",
   "execution_count": 6,
   "metadata": {},
   "outputs": [
    {
     "data": {
      "text/plain": [
       "datetime.datetime(2020, 11, 9, 0, 0)"
      ]
     },
     "execution_count": 6,
     "metadata": {},
     "output_type": "execute_result"
    }
   ],
   "source": [
    "BH_2020_START = datetime.datetime.strptime('2020-11-09 00:00:00', '%Y-%m-%d %H:%M:%S')\n",
    "BH_2020_END = datetime.datetime.strptime('2020-11-13 23:59:59', '%Y-%m-%d %H:%M:%S')\n",
    "BH_2020_START"
   ]
  },
  {
   "cell_type": "code",
   "execution_count": 7,
   "metadata": {},
   "outputs": [
    {
     "data": {
      "text/plain": [
       "['zbmed/BioHackOutcomes',\n",
       " datetime.datetime(2020, 11, 4, 15, 39, 6),\n",
       " datetime.datetime(2020, 11, 12, 16, 18, 13),\n",
       " 0,\n",
       " 'Apache License']"
      ]
     },
     "execution_count": 7,
     "metadata": {},
     "output_type": "execute_result"
    }
   ],
   "source": [
    "repo = g.get_repo('zbmed/BioHackOutcomes')\n",
    "get_repo_description(repo)"
   ]
  },
  {
   "cell_type": "code",
   "execution_count": 8,
   "metadata": {},
   "outputs": [
    {
     "data": {
      "text/plain": [
       "['elixir-europe/BioHackathon-projects-2020',\n",
       " datetime.datetime(2020, 6, 22, 15, 22, 33),\n",
       " datetime.datetime(2020, 11, 12, 17, 53, 45),\n",
       " 20,\n",
       " '']"
      ]
     },
     "execution_count": 8,
     "metadata": {},
     "output_type": "execute_result"
    }
   ],
   "source": [
    "repo = g.get_repo('elixir-europe/BioHackathon-projects-2020')\n",
    "get_repo_description(repo)"
   ]
  },
  {
   "cell_type": "code",
   "execution_count": 9,
   "metadata": {},
   "outputs": [
    {
     "data": {
      "text/plain": [
       "[90, 147, 0, 237]"
      ]
     },
     "execution_count": 9,
     "metadata": {},
     "output_type": "execute_result"
    }
   ],
   "source": [
    "commits_processing(repo, BH_2020_START, BH_2020_END)"
   ]
  },
  {
   "cell_type": "code",
   "execution_count": null,
   "metadata": {},
   "outputs": [],
   "source": [
    "#Change the way to parse the license\n",
    "\n",
    "repo_description = {\"Full name:\" : repo.full_name, \"Description:\" : repo.description,\n",
    "                    \"Date created:\" : repo.created_at, \"Date of last push:\" : repo.pushed_at,\n",
    "                    \"Number of stars:\" : repo.stargazers_count}\n",
    "try:\n",
    "    repo_description[\"License:\"] = (repo.get_license().decoded_content.decode().split('\\n')[0]).strip()\n",
    "except:\n",
    "    pass\n",
    "repo_description\n"
   ]
  },
  {
   "cell_type": "code",
   "execution_count": null,
   "metadata": {},
   "outputs": [],
   "source": [
    "#default branch (either master or main) but we do not need to go for a branch, we can go for the repo\n",
    "#branch = repo.default_branch\n",
    "\n",
    "#Example\n",
    "repo = g.get_repo('elixir-europe/BioHackathon-projects-2020')\n",
    "\n",
    "#For each of the following, we will need to do some aggregation\n",
    "#By now let's go only with commits\n",
    "#lst = repo.get_downloads()\n",
    "commit_lst = repo.get_commits()\n",
    "#lst = repo.get_forks()\n",
    "#lst = repo.get_releases()\n",
    "#lst = repo.get_issues()\n",
    "\n",
    "#Response is a paginated list, will a simple loop work? \n",
    "#It looks like but if too many we will run above the GitHub API limit... \n",
    "#ToDo: find a better way to traverse the list\n",
    "lst "
   ]
  },
  {
   "cell_type": "code",
   "execution_count": null,
   "metadata": {
    "scrolled": true
   },
   "outputs": [],
   "source": [
    "#commit is what we need, from it we get the author username and the date\n",
    "print(commit_lst[0].commit.author.name, commit_lst[0].commit.author.date) \n",
    "\n",
    "#next we want to aggregate committers and commits by dates\n",
    "#at the end we want to get a dataframe with the following columns\n",
    "#name\tcreated_at\tlast_push\tlicense\ttotal_stars\ttotal_commits\tcommits_before\tcommits_during\tcommits_after\ttotal_committers\tcommitters_before\tcommitters_during\tcommitters_after\n",
    "#Let's get first the description columns and the ones for commits\n",
    "#Let's get second (but the same dataframe) columns for committers (those need an extra aggregation by commiter)"
   ]
  },
  {
   "cell_type": "markdown",
   "metadata": {},
   "source": [
    "# Result with added Contributors in DataFrame"
   ]
  },
  {
   "cell_type": "code",
   "execution_count": 10,
   "metadata": {},
   "outputs": [],
   "source": [
    "repo = g.get_repo('elixir-europe/BioHackathon-projects-2019')\n",
    "\n",
    "BH_2019_START = datetime.datetime.strptime('2019-11-18 00:00:00', '%Y-%m-%d %H:%M:%S')\n",
    "BH_2019_END = datetime.datetime.strptime('2019-11-22 23:59:59', '%Y-%m-%d %H:%M:%S')\n",
    "\n",
    "statistics_hackaton = commits_processing(repo, BH_2019_START, BH_2019_END)"
   ]
  },
  {
   "cell_type": "code",
   "execution_count": 22,
   "metadata": {},
   "outputs": [],
   "source": [
    "def commits_processing_contributors(repo, bh_start, bh_end):\n",
    "    \n",
    "    '''\n",
    "    input: repo PyGitHub object\n",
    "        bh_start Initial date of the event\n",
    "        bh_end final date of the event\n",
    "    Output: 1. list with overall commit days \n",
    "            2. set with all authors that contributed\n",
    "    \n",
    "    '''\n",
    "\n",
    "    commits = repo.get_commits()\n",
    "\n",
    "    total_commits = [0, 0, 0, 0] #before, during, after, total\n",
    "    overall_contributors = set() \n",
    "    total_contributors = [set(), set(), set()]#before, during, after\n",
    "    for commit in commits:\n",
    "        author = (str(commit.commit.author.name))\n",
    "        overall_contributors.add(author)\n",
    "        time_Obj = commit.commit.author.date\n",
    "        if time_Obj < bh_start :\n",
    "            total_commits[0] = total_commits[0] + 1\n",
    "            total_contributors[0].add(author)\n",
    "        elif bh_start <= time_Obj and time_Obj <= bh_end : \n",
    "            total_commits[1] = total_commits[1] + 1\n",
    "            total_contributors[1].add(author)\n",
    "        else :\n",
    "            total_commits[2] = total_commits[2] + 1\n",
    "            total_contributors[2].add(author)\n",
    "        total_commits[3] = total_commits[3] + 1\n",
    "        #timeStamp = timeObj.strftime(\"%d-%m-%Y\")\n",
    "\n",
    "    #return sorted(commit_days, key = lambda date: datetime.strptime(date, \"%d-%m-%Y\")) , authors\n",
    "    return total_commits, total_contributors, overall_contributors"
   ]
  },
  {
   "cell_type": "code",
   "execution_count": 23,
   "metadata": {},
   "outputs": [],
   "source": [
    "statistics_hackaton = commits_processing_contributors(repo, BH_2019_START, BH_2019_END)"
   ]
  },
  {
   "cell_type": "code",
   "execution_count": 35,
   "metadata": {},
   "outputs": [],
   "source": [
    "contributors_before = len(statistics_hackaton[1][0])"
   ]
  },
  {
   "cell_type": "code",
   "execution_count": 36,
   "metadata": {},
   "outputs": [],
   "source": [
    "contributors_during = len(statistics_hackaton[1][1])"
   ]
  },
  {
   "cell_type": "code",
   "execution_count": 37,
   "metadata": {},
   "outputs": [],
   "source": [
    "contributors_after = len(statistics_hackaton[1][2])"
   ]
  },
  {
   "cell_type": "code",
   "execution_count": 38,
   "metadata": {},
   "outputs": [],
   "source": [
    "contributors_overall = len(statistics_hackaton[2])"
   ]
  },
  {
   "cell_type": "code",
   "execution_count": 41,
   "metadata": {},
   "outputs": [],
   "source": [
    "#DataFrame data\n",
    "\n",
    "repo_name = get_repo_description(repo)[0]\n",
    "license = get_repo_description(repo)[4]\n",
    "\n",
    "\n",
    "before_hackaton = statistics_hackaton[0][0]\n",
    "during_hackaton = statistics_hackaton[0][1]\n",
    "after_hackaton = statistics_hackaton[0][2]\n",
    "total_hackaton = statistics_hackaton[0][3]\n"
   ]
  },
  {
   "cell_type": "markdown",
   "metadata": {},
   "source": [
    "## Output"
   ]
  },
  {
   "cell_type": "code",
   "execution_count": 51,
   "metadata": {},
   "outputs": [
    {
     "data": {
      "text/html": [
       "<div>\n",
       "<style scoped>\n",
       "    .dataframe tbody tr th:only-of-type {\n",
       "        vertical-align: middle;\n",
       "    }\n",
       "\n",
       "    .dataframe tbody tr th {\n",
       "        vertical-align: top;\n",
       "    }\n",
       "\n",
       "    .dataframe thead th {\n",
       "        text-align: right;\n",
       "    }\n",
       "</style>\n",
       "<table border=\"1\" class=\"dataframe\">\n",
       "  <thead>\n",
       "    <tr style=\"text-align: right;\">\n",
       "      <th></th>\n",
       "      <th>BioHackaton Repository</th>\n",
       "      <th>License</th>\n",
       "      <th>Commits before BH</th>\n",
       "      <th>Commits during BH</th>\n",
       "      <th>Commits after BH</th>\n",
       "      <th>Total Commits</th>\n",
       "      <th>Contributors before BH</th>\n",
       "      <th>Contributors during BH</th>\n",
       "      <th>Contributors after BH</th>\n",
       "      <th>Total Contributors</th>\n",
       "    </tr>\n",
       "  </thead>\n",
       "  <tbody>\n",
       "    <tr>\n",
       "      <th>0</th>\n",
       "      <td>elixir-europe/BioHackathon-projects-2019</td>\n",
       "      <td>MIT License</td>\n",
       "      <td>114</td>\n",
       "      <td>435</td>\n",
       "      <td>82</td>\n",
       "      <td>631</td>\n",
       "      <td>30</td>\n",
       "      <td>32</td>\n",
       "      <td>10</td>\n",
       "      <td>54</td>\n",
       "    </tr>\n",
       "  </tbody>\n",
       "</table>\n",
       "</div>"
      ],
      "text/plain": [
       "                     BioHackaton Repository      License  Commits before BH  \\\n",
       "0  elixir-europe/BioHackathon-projects-2019  MIT License                114   \n",
       "\n",
       "   Commits during BH  Commits after BH  Total Commits  Contributors before BH  \\\n",
       "0                435                82            631                      30   \n",
       "\n",
       "   Contributors during BH  Contributors after BH  Total Contributors  \n",
       "0                      32                     10                  54  "
      ]
     },
     "execution_count": 51,
     "metadata": {},
     "output_type": "execute_result"
    }
   ],
   "source": [
    "#Dataframe\n",
    "exportable_dataframe = pd.DataFrame({\"BioHackaton Repository\" : [repo_name], \"License\" : license, \n",
    "                                     \"Commits before BH\": before_hackaton, \"Commits during BH\": during_hackaton, \n",
    "                                     \"Commits after BH\": after_hackaton, \"Total Commits\" : total_hackaton, \n",
    "                                     \"Contributors before BH\" : contributors_before, \"Contributors during BH\" : contributors_during, \n",
    "                                     \"Contributors after BH\" : contributors_after, \"Total Contributors\" : contributors_overall})\n",
    "exportable_dataframe"
   ]
  },
  {
   "cell_type": "markdown",
   "metadata": {},
   "source": [
    "## Export to CSV"
   ]
  },
  {
   "cell_type": "code",
   "execution_count": 52,
   "metadata": {},
   "outputs": [],
   "source": [
    "exportable_dataframe.to_csv('BioHackaton_stats_with_contributors.csv', index = False, header=True)"
   ]
  },
  {
   "cell_type": "code",
   "execution_count": null,
   "metadata": {},
   "outputs": [],
   "source": []
  }
 ],
 "metadata": {
  "kernelspec": {
   "display_name": "Python 3",
   "language": "python",
   "name": "python3"
  },
  "language_info": {
   "codemirror_mode": {
    "name": "ipython",
    "version": 3
   },
   "file_extension": ".py",
   "mimetype": "text/x-python",
   "name": "python",
   "nbconvert_exporter": "python",
   "pygments_lexer": "ipython3",
   "version": "3.7.8"
  }
 },
 "nbformat": 4,
 "nbformat_minor": 4
}
