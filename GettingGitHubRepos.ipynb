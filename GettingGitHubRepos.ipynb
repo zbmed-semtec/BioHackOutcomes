{
 "cells": [
  {
   "cell_type": "markdown",
   "metadata": {},
   "source": [
    "# GitHub repos list\n",
    "\n",
    "In this Jupyter Notebook we will go through the BioHackathon repos and retrieve the list of repositories that we will extract metadata for.\n",
    "\n",
    "## What BioHackathons?\n",
    "\n",
    "We are using the project repositories to get a tentative list of participating project repos.\n",
    "* [BioHackathon Europe 2019](https://github.com/elixir-europe/BioHackathon-projects-2019)\n",
    "* [BioHackathon Europe 2020](https://github.com/elixir-europe/BioHackathon-projects-2020) + topic BioHackEU20\n",
    "\n",
    "Later we plan to add BioHackatho repos from the DBCLS/NBDC BioHackathons and the Covid-19 Virtual BioHackathon\n",
    "\n",
    "## What comes next?\n",
    "\n",
    "* We plan to integrate the repo list retrieval with the process pipeline\n",
    "* We plan to improve the metadata we are retrieving to get better analyses\n",
    "\n",
    "## What are we doing here?\n",
    "* Get projects from the two selected BioHackathons\n",
    "* For each project we get the readme file and identify any mention of a GitHub URL\n",
    "* For 2020 we double check the repo has the topic BioHackEU20\n"
   ]
  },
  {
   "cell_type": "code",
   "execution_count": 11,
   "metadata": {},
   "outputs": [],
   "source": [
    "import re\n",
    "\n",
    "#constants\n",
    "BH_2019 = 'elixir-europe/BioHackathon-projects-2019'\n",
    "BH_2020 = 'elixir-europe/BioHackathon-projects-2020'\n",
    "BH_2020_TOPIC = 'biohackeu20'\n",
    "README = 'README.md'\n",
    "\n",
    "MID_PATTERN = '\\\\/[a-zA-z0-9-_.~#]+'\n",
    "PATTERN = re.compile('(https:\\\\/\\\\/github\\\\.com' + MID_PATTERN + MID_PATTERN + ')')"
   ]
  },
  {
   "cell_type": "code",
   "execution_count": 2,
   "metadata": {},
   "outputs": [
    {
     "name": "stdout",
     "output_type": "stream",
     "text": [
      "Introduce your personal access token to acces the GitHub API: ········\n"
     ]
    }
   ],
   "source": [
    "#let's get the GitHub token so we can use the API\n",
    "import getpass\n",
    "\n",
    "try:\n",
    "    from secret import GITHUB_TOKEN\n",
    "except ModuleNotFoundError:\n",
    "    GITHUB_TOKEN = getpass.getpass(\"Introduce your personal access token to acces the GitHub API: \")"
   ]
  },
  {
   "cell_type": "code",
   "execution_count": 12,
   "metadata": {},
   "outputs": [],
   "source": [
    "#Retrieve all GitHub repo like URLs (using pattern matching) from all readme files listed under projects folder\n",
    "#This functions relies on the project folder pattern defined for the BioHackathon Europe\n",
    "def retrieve_bheu_repo_set(g, repo_path):\n",
    "    repo_set = set()\n",
    "    repo = g.get_repo(repo_path)\n",
    "    contents = repo.get_contents(\"projects\")\n",
    "    for project in contents:\n",
    "        path = project.path + '/' + README\n",
    "        readme = repo.get_contents(path)\n",
    "        readme_text = readme.decoded_content.decode()\n",
    "        #ToDo: Is there a better way to do this?\n",
    "        items = re.findall(PATTERN, readme_text)        \n",
    "        repo_set.update(items)\n",
    "        \n",
    "    repo_set = {item.replace('https://github.com/', '') for item in repo_set}\n",
    "    \n",
    "    return repo_set"
   ]
  },
  {
   "cell_type": "code",
   "execution_count": 13,
   "metadata": {},
   "outputs": [],
   "source": [
    "#Save to a file all URLs\n",
    "def save_to_file(file_path, repo_set):\n",
    "    with open(file_path, 'w') as f:\n",
    "        for item in repo_set:\n",
    "            f.write(\"%s\\n\" % item)\n",
    "   "
   ]
  },
  {
   "cell_type": "code",
   "execution_count": 3,
   "metadata": {},
   "outputs": [
    {
     "name": "stdout",
     "output_type": "stream",
     "text": [
      "<github.MainClass.Github object at 0x0000024CBAC86DC8>\n"
     ]
    }
   ],
   "source": [
    "#!pip install PyGithub\n",
    "from github import Github\n",
    "\n",
    "g = Github(GITHUB_TOKEN)\n",
    "print(g)\n"
   ]
  },
  {
   "cell_type": "code",
   "execution_count": 47,
   "metadata": {},
   "outputs": [
    {
     "name": "stdout",
     "output_type": "stream",
     "text": [
      "done\n"
     ]
    }
   ],
   "source": [
    "#Getting and saving repositories for BioHackathon Europe 2010\n",
    "bh_2019_repo_set = retrieve_bheu_repo_set(g, BH_2019)\n",
    "bh_2019_repo_set.add(BH_2019)\n",
    "save_to_file('./data/bh_2019_repos.txt', bh_2019_repo_set)\n",
    "        \n",
    "print('done')"
   ]
  },
  {
   "cell_type": "code",
   "execution_count": 15,
   "metadata": {},
   "outputs": [
    {
     "name": "stdout",
     "output_type": "stream",
     "text": [
      "done\n"
     ]
    }
   ],
   "source": [
    "bh_2020_repo_set = set()\n",
    "\n",
    "#Getting repositories for BioHackathon Europe 2020\n",
    "#bh_2020_repo_set = retrieve_bheu_repo_set(g, BH_2020)\n",
    "bh_2020_repo_set.add(BH_2020)\n",
    "\n",
    "#Get also those with the topic\n",
    "#ToDo: Should it be the intersection?\n",
    "repositories = g.search_repositories(query='topic:biohackeu20')\n",
    "biohackeu20_repo_list = [repo.full_name for repo in repositories]\n",
    "biohackeu20_repo_list\n",
    "bh_2020_repo_set.update(biohackeu20_repo_list)\n",
    "\n",
    "#Save it all\n",
    "save_to_file('./data/bh_2020_repos_biohackeu20_topic.txt', bh_2020_repo_set)\n",
    "        \n",
    "print('done')"
   ]
  },
  {
   "cell_type": "code",
   "execution_count": 53,
   "metadata": {},
   "outputs": [
    {
     "name": "stdout",
     "output_type": "stream",
     "text": [
      "done\n"
     ]
    }
   ],
   "source": [
    "#Get also those with the topic BioHackCovid20, for these we do not have a seed repository (or do we?)\n",
    "repositories = g.search_repositories(query='topic:biohackcovid20')\n",
    "bh_covid_2020_repo_set = {repo.full_name for repo in repositories}\n",
    "\n",
    "#Save it all\n",
    "save_to_file('./data/bh_covid_2020_repos.txt', bh_covid_2020_repo_set)\n",
    "        \n",
    "print('done')"
   ]
  }
 ],
 "metadata": {
  "kernelspec": {
   "display_name": "Python 3",
   "language": "python",
   "name": "python3"
  },
  "language_info": {
   "codemirror_mode": {
    "name": "ipython",
    "version": 3
   },
   "file_extension": ".py",
   "mimetype": "text/x-python",
   "name": "python",
   "nbconvert_exporter": "python",
   "pygments_lexer": "ipython3",
   "version": "3.7.6"
  }
 },
 "nbformat": 4,
 "nbformat_minor": 4
}
